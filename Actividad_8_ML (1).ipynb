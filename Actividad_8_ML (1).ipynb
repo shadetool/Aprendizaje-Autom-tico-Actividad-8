{
  "nbformat": 4,
  "nbformat_minor": 0,
  "metadata": {
    "colab": {
      "provenance": []
    },
    "kernelspec": {
      "name": "python3",
      "display_name": "Python 3"
    },
    "language_info": {
      "name": "python"
    }
  },
  "cells": [
    {
      "cell_type": "code",
      "execution_count": null,
      "metadata": {
        "colab": {
          "base_uri": "https://localhost:8080/"
        },
        "id": "dxHsfSwVQcJj",
        "outputId": "375ae746-5d7a-40ca-886d-fe763100f64d"
      },
      "outputs": [
        {
          "output_type": "stream",
          "name": "stdout",
          "text": [
            "Máximo beneficio: $ 4250\n",
            "Piezas seleccionadas: [3, 6, 7, 8]\n"
          ]
        }
      ],
      "source": [
        "def opt_knapsack_with_items(v, w, C):\n",
        "    N = len(v)\n",
        "    m = {}\n",
        "    items_selected = {}\n",
        "\n",
        "    # Inicializar la tabla de optimización y la tabla de selección de elementos\n",
        "    for c in range(C + 1):\n",
        "        m[(0, c)] = 0\n",
        "        items_selected[(0, c)] = []\n",
        "\n",
        "    # Construir la tabla de optimización y rastrear los elementos seleccionados\n",
        "    for i in range(1, N + 1):\n",
        "        for c in range(C + 1):\n",
        "            if w[i - 1] <= c:\n",
        "                if v[i - 1] + m[(i - 1, c - w[i - 1])] > m[(i - 1, c)]:\n",
        "                    m[(i, c)] = v[i - 1] + m[(i - 1, c - w[i - 1])]\n",
        "                    items_selected[(i, c)] = items_selected[(i - 1, c - w[i - 1])] + [i]\n",
        "                else:\n",
        "                    m[(i, c)] = m[(i - 1, c)]\n",
        "                    items_selected[(i, c)] = items_selected[(i - 1, c)]\n",
        "            else:\n",
        "                m[(i, c)] = m[(i - 1, c)]\n",
        "                items_selected[(i, c)] = items_selected[(i - 1, c)]\n",
        "\n",
        "    return m[(N, C)], items_selected[(N, C)]\n",
        "\n",
        "# Definir los valores y pesos\n",
        "v = [500, 250, 1500, 1200, 1200, 1000, 800, 950]\n",
        "w = [4, 3, 10, 12, 9, 5, 6, 7]\n",
        "C = 28\n",
        "\n",
        "# Llamar a la función\n",
        "max_benefit, selected_pieces = opt_knapsack_with_items(v, w, C)\n",
        "print(f\"Máximo beneficio: $ {max_benefit}\")\n",
        "print(f\"Piezas seleccionadas: {selected_pieces}\")\n",
        "\n"
      ]
    },
    {
      "cell_type": "code",
      "source": [],
      "metadata": {
        "id": "RgLuNvdeQqpe"
      },
      "execution_count": null,
      "outputs": []
    }
  ]
}