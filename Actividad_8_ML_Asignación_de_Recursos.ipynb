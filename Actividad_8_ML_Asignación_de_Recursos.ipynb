{
  "nbformat": 4,
  "nbformat_minor": 0,
  "metadata": {
    "colab": {
      "provenance": []
    },
    "kernelspec": {
      "name": "python3",
      "display_name": "Python 3"
    },
    "language_info": {
      "name": "python"
    }
  },
  "cells": [
    {
      "cell_type": "markdown",
      "source": [
        "Problemática: Asignación de Recursos en un Proyecto usando Algoritmo Genético"
      ],
      "metadata": {
        "id": "SDu0yIrYfxas"
      }
    },
    {
      "cell_type": "code",
      "execution_count": null,
      "metadata": {
        "colab": {
          "base_uri": "https://localhost:8080/"
        },
        "id": "FyqT4fbrfGCj",
        "outputId": "ecd50c5f-a7c8-405b-9873-35ac45ac1830"
      },
      "outputs": [
        {
          "output_type": "stream",
          "name": "stdout",
          "text": [
            "Mejor individuo: [0 1 1]\n",
            "Beneficio máximo: 220\n"
          ]
        }
      ],
      "source": [
        "import numpy as np\n",
        "\n",
        "# Tareas con [beneficio, tiempo requerido]\n",
        "tareas = [[60, 10], [100, 20], [120, 30]]\n",
        "tiempo_max = 50\n",
        "\n",
        "# Parámetros del algoritmo genético\n",
        "num_individuos = 100\n",
        "num_generaciones = 50\n",
        "tasa_mutacion = 0.1\n",
        "\n",
        "# Inicializar la población\n",
        "poblacion = np.random.randint(0, 2, (num_individuos, len(tareas)))\n",
        "\n",
        "# Función de aptitud\n",
        "def calcular_aptitud(individuo):\n",
        "    beneficio_total = sum(individuo[i] * tareas[i][0] for i in range(len(tareas)))\n",
        "    tiempo_total = sum(individuo[i] * tareas[i][1] for i in range(len(tareas)))\n",
        "    if tiempo_total > tiempo_max:\n",
        "        return 0\n",
        "    return beneficio_total\n",
        "\n",
        "# Evolución de la población\n",
        "for _ in range(num_generaciones):\n",
        "    poblacion_ordenada = sorted(poblacion, key=lambda ind: calcular_aptitud(ind), reverse=True)\n",
        "    poblacion = np.array(poblacion_ordenada[:num_individuos//2] * 2)  # Selección y replicación\n",
        "\n",
        "    # Mutación\n",
        "    for individuo in poblacion:\n",
        "        if np.random.rand() < tasa_mutacion:\n",
        "            punto_mutacion = np.random.randint(0, len(tareas))\n",
        "            individuo[punto_mutacion] = 1 - individuo[punto_mutacion]\n",
        "\n",
        "mejor_individuo = poblacion[0]\n",
        "print(\"Mejor individuo:\", mejor_individuo)\n",
        "print(\"Beneficio máximo:\", calcular_aptitud(mejor_individuo))\n"
      ]
    },
    {
      "cell_type": "markdown",
      "source": [
        "\n",
        "Problemática: Asignación de Recursos en un Proyecto usando Programación Dinámica"
      ],
      "metadata": {
        "id": "nzybKuo1gF9o"
      }
    },
    {
      "cell_type": "code",
      "source": [
        "def asignacion_recursos(tareas, tiempo_max):\n",
        "    n = len(tareas)\n",
        "    dp = [[0 for _ in range(tiempo_max + 1)] for _ in range(n + 1)]\n",
        "\n",
        "    for i in range(1, n + 1):\n",
        "        for t in range(1, tiempo_max + 1):\n",
        "            if tareas[i-1][1] <= t:\n",
        "                dp[i][t] = max(tareas[i-1][0] + dp[i-1][t-tareas[i-1][1]], dp[i-1][t])\n",
        "            else:\n",
        "                dp[i][t] = dp[i-1][t]\n",
        "\n",
        "    return dp[n][tiempo_max]\n",
        "\n",
        "max_beneficio = asignacion_recursos(tareas, tiempo_max)\n",
        "print(\"Beneficio máximo (PD):\", max_beneficio)"
      ],
      "metadata": {
        "colab": {
          "base_uri": "https://localhost:8080/"
        },
        "id": "bKB6L7xBfL72",
        "outputId": "57647cb5-6a6b-40bd-e0eb-9a309dbe6a6a"
      },
      "execution_count": null,
      "outputs": [
        {
          "output_type": "stream",
          "name": "stdout",
          "text": [
            "Beneficio máximo (PD): 220\n"
          ]
        }
      ]
    },
    {
      "cell_type": "code",
      "source": [],
      "metadata": {
        "id": "vFwFuLP8gEOt"
      },
      "execution_count": null,
      "outputs": []
    }
  ]
}